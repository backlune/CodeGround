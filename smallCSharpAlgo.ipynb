{
 "cells": [
  {
   "cell_type": "code",
   "execution_count": null,
   "metadata": {
    "dotnet_interactive": {
     "language": "csharp"
    },
    "vscode": {
     "languageId": "dotnet-interactive.csharp"
    }
   },
   "outputs": [
    {
     "name": "stdout",
     "output_type": "stream",
     "text": [
      "55\r\n"
     ]
    }
   ],
   "source": [
    "public int MathChallenge(int num){\n",
    "    return num == 1 ? 1 : num + MathChallenge(num-1); \n",
    "}\n",
    "\n",
    "Console.WriteLine(MathChallenge(10));"
   ]
  },
  {
   "cell_type": "code",
   "execution_count": null,
   "metadata": {
    "dotnet_interactive": {
     "language": "csharp"
    },
    "vscode": {
     "languageId": "dotnet-interactive.csharp"
    }
   },
   "outputs": [
    {
     "data": {
      "text/html": [
       "<span>2022-07-11 22:00:00Z</span>"
      ]
     },
     "metadata": {},
     "output_type": "display_data"
    }
   ],
   "source": [
    "TimeZoneInfo.ConvertTimeToUtc(DateTime.Parse(\"2022-07-12\"), TimeZoneInfo.FindSystemTimeZoneById(\"W. Europe Standard Time\"))\n",
    "//TimeZoneInfo.FindSystemTimeZoneById(\"W. Europe Standard Time\")"
   ]
  },
  {
   "cell_type": "code",
   "execution_count": null,
   "metadata": {
    "dotnet_interactive": {
     "language": "csharp"
    },
    "vscode": {
     "languageId": "dotnet-interactive.csharp"
    }
   },
   "outputs": [
    {
     "data": {
      "text/html": [
       "<span>2023-01-12 00:00:00Z</span>"
      ]
     },
     "metadata": {},
     "output_type": "display_data"
    }
   ],
   "source": [
    "DateTime.Parse(\"2022-07-12\").AddMonths(6)"
   ]
  },
  {
   "cell_type": "code",
   "execution_count": null,
   "metadata": {
    "dotnet_interactive": {
     "language": "csharp"
    },
    "vscode": {
     "languageId": "dotnet-interactive.csharp"
    }
   },
   "outputs": [
    {
     "name": "stdout",
     "output_type": "stream",
     "text": [
      "2022-10-15 00:00:00\r\n",
      "2022-09-14 00:00:00\r\n",
      "2023-02-15 00:00:00\r\n",
      "2024-08-15 00:00:00\r\n"
     ]
    }
   ],
   "source": [
    "public enum OccurranceType\n",
    "    {\n",
    "        Monthly = 0,\n",
    "        MonthlyLastDay = 1,\n",
    "        Weekly = 2,\n",
    "\n",
    "        Annually = 4,\n",
    "        Quarterly = 5,\n",
    "\n",
    "        Custom = 100,\n",
    "    }\n",
    "\n",
    "public DateTime? GetDateForSequenceNubmer(DateTime startDate, OccurranceType occurrance, int sequenceNumber)\n",
    "{\n",
    "    switch (occurrance)\n",
    "    {\n",
    "        case OccurranceType.Monthly:\n",
    "            return startDate.AddMonths(sequenceNumber-1);\n",
    "        case OccurranceType.Weekly:\n",
    "            return startDate.AddDays(7*(sequenceNumber-1));\n",
    "        case OccurranceType.Quarterly:\n",
    "            return startDate.AddMonths(3*(sequenceNumber-1));\n",
    "        case OccurranceType.Annually:\n",
    "            return startDate.AddYears(sequenceNumber-1);\n",
    "        default:\n",
    "            return null;\n",
    "    }\n",
    "\n",
    "}\n",
    "\n",
    "\n",
    "\n",
    "Console.WriteLine(GetDateForSequenceNubmer(DateTime.Parse(\"2022-08-15\"), OccurranceType.Monthly, 3));\n",
    "Console.WriteLine(GetDateForSequenceNubmer(DateTime.Parse(\"2022-08-17\"), OccurranceType.Weekly, 5));\n",
    "Console.WriteLine(GetDateForSequenceNubmer(DateTime.Parse(\"2022-08-15\"), OccurranceType.Quarterly, 3));\n",
    "Console.WriteLine(GetDateForSequenceNubmer(DateTime.Parse(\"2022-08-15\"), OccurranceType.Annually, 3));"
   ]
  },
  {
   "cell_type": "markdown",
   "metadata": {},
   "source": [
    "foreach recurringId\n",
    "    recurring = fetch from db (Id,StartDate, Occurance, SecquenceNumberCounter)\n",
    "    if(today == GetDateForSequenceNubmer())\n",
    "    {\n",
    "        AddToQueue()\n",
    "    }"
   ]
  }
 ],
 "metadata": {
  "kernelspec": {
   "display_name": ".NET (C#)",
   "language": "C#",
   "name": ".net-csharp"
  },
  "language_info": {
   "file_extension": ".cs",
   "mimetype": "text/x-csharp",
   "name": "C#",
   "pygments_lexer": "csharp",
   "version": "9.0"
  },
  "orig_nbformat": 4
 },
 "nbformat": 4,
 "nbformat_minor": 2
}
